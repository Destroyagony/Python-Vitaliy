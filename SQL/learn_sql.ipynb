{
 "cells": [
  {
   "cell_type": "markdown",
   "metadata": {},
   "source": [
    "# <center> Базовые запросы </center>\n",
    "SQL - простыми словами инструмент(язык) запросов для обращенияк базе  данных \n",
    "\n",
    "Базы данных -  это структура которая представляет собой хранилище наших данных , с помощью SQL мы делаем запросы к БД. \n",
    "\n",
    "Следующий запрос представляет дает задачу БД предоставить нам выборку всех данных с таблицы courier actions (select значит выбрать) (*  значит все данные) , (limit 10  значит ограничить выборку первыми 10ю записями в БД)\n",
    "\n",
    " [SELECT QUERY EXPL1](../Images/learn_sql_img/select_query_example1.png)\n",
    "\n"
   ]
  },
  {
   "cell_type": "markdown",
   "metadata": {},
   "source": []
  }
 ],
 "metadata": {
  "language_info": {
   "name": "python"
  }
 },
 "nbformat": 4,
 "nbformat_minor": 2
}
