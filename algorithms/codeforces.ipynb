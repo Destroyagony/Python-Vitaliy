{
 "cells": [
  {
   "cell_type": "markdown",
   "metadata": {},
   "source": [
    "<div style=\"text-align:center;\">\n",
    "    <span style=\"color: red; font-weight: bold; font-size: 24px;\">PROBLEM 4A</span>\n",
    "</div>"
   ]
  },
  {
   "cell_type": "markdown",
   "metadata": {},
   "source": [
    "# https://codeforces.com/problemset/problem/4/A\n",
    "\n",
    "One hot summer day Pete and his friend Billy decided to buy a watermelon. They chose the biggest and the ripest one, in their opinion. After that the watermelon was weighed, and the scales showed w kilos. They rushed home, dying of thirst, and decided to divide the berry, however they faced a hard problem.\n",
    "\n",
    "Pete and Billy are great fans of even numbers, that's why they want to divide the watermelon in such a way that each of the two parts weighs even number of kilos, at the same time it is not obligatory that the parts are equal. The boys are extremely tired and want to start their meal as soon as possible, that's why you should help them and find out, if they can divide the watermelon in the way they want. For sure, each of them should get a part of positive weight.\n",
    "\n",
    "# Input\n",
    "The first (and the only) input line contains integer number w (1 ≤ w ≤ 100) — the weight of the watermelon bought by the boys.\n",
    "\n",
    "# Output\n",
    "Print YES, if the boys can divide the watermelon into two parts, each of them weighing even number of kilos; and NO in the opposite case.\n",
    "\n"
   ]
  },
  {
   "cell_type": "markdown",
   "metadata": {},
   "source": [
    "<div style=\"text-align:center;\">\n",
    "    <span style=\"color: green; font-weight: bold; font-size: 24px;\">SOLUTION 4A</span>\n",
    "</div"
   ]
  },
  {
   "cell_type": "code",
   "execution_count": 1,
   "metadata": {},
   "outputs": [
    {
     "name": "stdout",
     "output_type": "stream",
     "text": [
      "No\n"
     ]
    }
   ],
   "source": [
    "watermelon_weight = int(input(\"Еnter the weight of the watermelon in kg\"))\n",
    "\n",
    "if watermelon_weight > 2 and watermelon_weight % 2 == 0:\n",
    "    print(\"Yes\")\n",
    "else:\n",
    "    print(\"No\")"
   ]
  },
  {
   "cell_type": "code",
   "execution_count": 9,
   "metadata": {},
   "outputs": [
    {
     "name": "stdout",
     "output_type": "stream",
     "text": [
      "No\n",
      "No\n",
      "No\n",
      "Yes\n",
      "No\n"
     ]
    }
   ],
   "source": [
    "# Another decision\n",
    "\n",
    "\n",
    "def watermelon_division(w):\n",
    "    return \"Yes\" if w > 2 and w % 2 == 0 else \"No\"\n",
    "\n",
    "\n",
    "print(watermelon_division(23))\n",
    "print(watermelon_division(27))\n",
    "print(watermelon_division(2))\n",
    "print(watermelon_division(34))\n",
    "print(watermelon_division(1))"
   ]
  },
  {
   "cell_type": "markdown",
   "metadata": {},
   "source": [
    "<div style=\"text-align:center;\">\n",
    "    <span style=\"color: red; font-weight: bold; font-size: 24px;\">PROBLEM 71A</span>\n",
    "</div>"
   ]
  },
  {
   "cell_type": "markdown",
   "metadata": {},
   "source": [
    "# https://codeforces.com/problemset/problem/71/A\n",
    "\n",
    "Sometimes some words like \"localization\" or \"internationalization\" are so long that writing them many times in one text is quite tiresome.\n",
    "\n",
    "Let's consider a word too long, if its length is strictly more than 10 characters. All too long words should be replaced with a special abbreviation.\n",
    "\n",
    "This abbreviation is made like this: we write down the first and the last letter of a word and between them we write the number of letters between the first and the last letters. That number is in decimal system and doesn't contain any leading zeroes.\n",
    "\n",
    "Thus, \"localization\" will be spelt as \"l10n\", and \"internationalization» will be spelt as \"i18n\".\n",
    "\n",
    "You are suggested to automatize the process of changing the words with abbreviations. At that all too long words should be replaced by the abbreviation and the words that are not too long should not undergo any changes.\n",
    "\n",
    "# Input\n",
    "The first line contains an integer n (1 ≤ n ≤ 100). Each of the following n lines contains one word. All the words consist of lowercase Latin letters and possess the lengths of from 1 to 100 characters.\n",
    "\n",
    "# Output\n",
    "Print n lines. The i-th line should contain the result of replacing of the i-th word from the input data."
   ]
  },
  {
   "cell_type": "markdown",
   "metadata": {},
   "source": [
    "<div style=\"text-align:center;\">\n",
    "    <span style=\"color: green; font-weight: bold; font-size: 24px;\">SOLUTION 71A</span>\n",
    "</div"
   ]
  },
  {
   "cell_type": "code",
   "execution_count": 2,
   "metadata": {},
   "outputs": [
    {
     "name": "stdout",
     "output_type": "stream",
     "text": [
      "Home\n",
      "H6e\n",
      "I7y\n",
      "\n",
      "M6e\n",
      "Star\n"
     ]
    }
   ],
   "source": [
    "# Decision №1\n",
    "\n",
    "\n",
    "def too_long(word):\n",
    "    if len(word) > 4:\n",
    "        return word[0] + str(len(word) - 2) + word[-1]\n",
    "    else:\n",
    "        return word\n",
    "\n",
    "\n",
    "print(too_long(\"Home\"))\n",
    "print(too_long(\"Homemade\"))\n",
    "print(too_long(\"Inventory\"))\n",
    "print(too_long(\"\"))\n",
    "print(too_long(\"Magazine\"))\n",
    "print(too_long(\"Star\"))"
   ]
  },
  {
   "cell_type": "code",
   "execution_count": 4,
   "metadata": {},
   "outputs": [
    {
     "name": "stdout",
     "output_type": "stream",
     "text": [
      "Home\n",
      "H6e\n",
      "I7y\n",
      "\n",
      "M6e\n",
      "Star\n"
     ]
    }
   ],
   "source": [
    "# Decision №2\n",
    "\n",
    "\n",
    "def too_long(word):\n",
    "    return word[0] + str(len(word) - 2) + word[-1] if len(word) > 4 else word\n",
    "\n",
    "\n",
    "print(too_long(\"Home\"))\n",
    "print(too_long(\"Homemade\"))\n",
    "print(too_long(\"Inventory\"))\n",
    "print(too_long(\"\"))\n",
    "print(too_long(\"Magazine\"))\n",
    "print(too_long(\"Star\"))"
   ]
  },
  {
   "cell_type": "markdown",
   "metadata": {},
   "source": [
    "<div style=\"text-align:center;\">\n",
    "    <span style=\"color: red; font-weight: bold; font-size: 24px;\">PROBLEM 231A</span>\n",
    "</div>"
   ]
  },
  {
   "cell_type": "markdown",
   "metadata": {},
   "source": [
    "# https://codeforces.com/problemset/problem/231/A\n",
    "\n",
    "One day three best friends Petya, Vasya and Tonya decided to form a team and take part in programming contests. Participants are usually offered several problems during programming contests. Long before the start the friends decided that they will implement a problem if at least two of them are sure about the solution. Otherwise, the friends won't write the problem's solution.\n",
    "\n",
    "This contest offers n problems to the participants. For each problem we know, which friend is sure about the solution. Help the friends find the number of problems for which they will write a solution.\n",
    "\n",
    "# Input\n",
    "The first input line contains a single integer n (1 ≤ n ≤ 1000) — the number of problems in the contest. Then n lines contain three integers each, each integer is either 0 or 1. If the first number in the line equals 1, then Petya is sure about the problem's solution, otherwise he isn't sure. The second number shows Vasya's view on the solution, the third number shows Tonya's view. The numbers on the lines are separated by spaces.\n",
    "\n",
    "# Output\n",
    "Print a single integer — the number of problems the friends will implement on the contest."
   ]
  },
  {
   "cell_type": "markdown",
   "metadata": {},
   "source": [
    "<div style=\"text-align:center;\">\n",
    "    <span style=\"color: green; font-weight: bold; font-size: 24px;\">SOLUTION 231A</span>\n",
    "</div"
   ]
  },
  {
   "cell_type": "code",
   "execution_count": 4,
   "metadata": {},
   "outputs": [
    {
     "name": "stdout",
     "output_type": "stream",
     "text": [
      "2\n"
     ]
    }
   ],
   "source": [
    "first_input = int(input(\"Input a single integer n (1 ≤ n ≤ 1000\"))\n",
    "\n",
    "solution_knowledge = 0\n",
    "\n",
    "for n in range(first_input):\n",
    "    Petya, Vasya, Tonya = map(\n",
    "        int, input().split()\n",
    "    )  # \"The input should be in the following format: 1 0 1, with each number following the previous one after\n",
    "    # a space\n",
    "    if Petya + Vasya + Tonya >= 2:\n",
    "        solution_knowledge += 1\n",
    "\n",
    "print(solution_knowledge)"
   ]
  },
  {
   "cell_type": "markdown",
   "metadata": {},
   "source": [
    "<div style=\"text-align:center;\">\n",
    "    <span style=\"color: red; font-weight: bold; font-size: 24px;\">PROBLEM 158A</span>\n",
    "</div>"
   ]
  },
  {
   "cell_type": "markdown",
   "metadata": {},
   "source": [
    "# https://codeforces.com/problemset/problem/158/A\n",
    "\n",
    "\"Contestant who earns a score equal to or greater than the k-th place finisher's score will advance to the next round, as long as the contestant earns a positive score...\" — an excerpt from contest rules.\n",
    "\n",
    "A total of n participants took part in the contest (n ≥ k), and you already know their scores. Calculate how many participants will advance to the next round.\n",
    "\n",
    "# Input\n",
    "The first line of the input contains two integers n and k (1 ≤ k ≤ n ≤ 50) separated by a single space.\n",
    "\n",
    "The second line contains n space-separated integers a1, a2, ..., an (0 ≤ ai ≤ 100), where ai is the score earned by the participant who got the i-th place. The given sequence is non-increasing (that is, for all i from 1 to n - 1 the following condition is fulfilled: ai ≥ ai + 1).\n",
    "\n",
    "# Output\n",
    "Output the number of participants who advance to the next round."
   ]
  },
  {
   "cell_type": "markdown",
   "metadata": {},
   "source": [
    "<div style=\"text-align:center;\">\n",
    "    <span style=\"color: green; font-weight: bold; font-size: 24px;\">SOLUTION 158A</span>\n",
    "</div"
   ]
  },
  {
   "cell_type": "code",
   "execution_count": 5,
   "metadata": {},
   "outputs": [
    {
     "name": "stdout",
     "output_type": "stream",
     "text": [
      "4\n"
     ]
    }
   ],
   "source": [
    "n, k = map(int, input().split())\n",
    "\"\"\"\n",
    "Here we take values from input and breaks them into individual components with split function \n",
    "After that we use int func to transform values and integer type\n",
    "Map function applies the int func for all values.\n",
    "At the last stage we assigned values to n and k\n",
    "\"\"\"\n",
    "\n",
    "scores = list(map(int, input().split()))\n",
    "\"\"\"\n",
    "Here we do all the same as in the previous code line and also set up our values into the list \n",
    "to make indexing values possible and to have access for individual scores\n",
    "\"\"\"\n",
    "\n",
    "k_place_score = scores[k - 1]\n",
    "\"\"\"\n",
    "As we remember,indexing in Python starts with 0,so it means that we need to add (-1) to \n",
    "our index to get the correct participant score by his place(k)\n",
    "\"\"\"\n",
    "\n",
    "qualifiers = 0\n",
    "\n",
    "for score in scores:\n",
    "    if score >= k_place_score and score >= 0:\n",
    "        qualifiers += 1\n",
    "    else:\n",
    "        break\n",
    "\n",
    "\"\"\"\n",
    "In this block of code, we use the iteration method to get our scores separately from the list \n",
    "and then compare them to the k_place_score and increase the number of qualifiers if they earned \n",
    "the same or greater rating than the k place.\n",
    "\"\"\"\n",
    "print(qualifiers)\n",
    "\n"
   ]
  },
  {
   "cell_type": "code",
   "execution_count": null,
   "metadata": {},
   "outputs": [],
   "source": []
  }
 ],
 "metadata": {
  "kernelspec": {
   "display_name": ".venv",
   "language": "python",
   "name": "python3"
  },
  "language_info": {
   "codemirror_mode": {
    "name": "ipython",
    "version": 3
   },
   "file_extension": ".py",
   "mimetype": "text/x-python",
   "name": "python",
   "nbconvert_exporter": "python",
   "pygments_lexer": "ipython3",
   "version": "3.10.12"
  },
  "orig_nbformat": 4
 },
 "nbformat": 4,
 "nbformat_minor": 2
}
