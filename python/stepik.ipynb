{
 "cells": [
  {
   "cell_type": "code",
   "execution_count": 26,
   "metadata": {},
   "outputs": [
    {
     "name": "stdout",
     "output_type": "stream",
     "text": [
      "460\n",
      "500\n",
      "2\n",
      "4\n"
     ]
    }
   ],
   "source": [
    "print(round(456, -1))\n",
    "print(round(456, -2))\n",
    "\n",
    "print(round(2.5)) #  если число четное округление производися в меньшую сторону \n",
    "print(round(3.5)) #  если же число четное то округление производится в большую сторону "
   ]
  },
  {
   "cell_type": "code",
   "execution_count": 24,
   "metadata": {},
   "outputs": [
    {
     "name": "stdout",
     "output_type": "stream",
     "text": [
      "5\n",
      "0\n",
      "0\n",
      "2\n"
     ]
    }
   ],
   "source": [
    "print(5%10) # остаток от деления \n",
    "print(5//10) # целочисленное деление (сколько раз пятерка помещается в 10)\n",
    "print(10%5)\n",
    "print(10//5)"
   ]
  },
  {
   "cell_type": "code",
   "execution_count": 12,
   "metadata": {},
   "outputs": [
    {
     "name": "stdout",
     "output_type": "stream",
     "text": [
      "4.0\n",
      "4.5\n",
      "3.0\n"
     ]
    }
   ],
   "source": [
    "print(pow(16, 0.5)) # возведение в степень \n",
    "\n",
    "print(9**1/2)  #  неправильное возведение в степень (в данном случае взятие корня)\n",
    "print(9**(1/2)) #  правильное возведение в степень (в данном случае взятие корня)"
   ]
  },
  {
   "cell_type": "code",
   "execution_count": 23,
   "metadata": {},
   "outputs": [
    {
     "name": "stdout",
     "output_type": "stream",
     "text": [
      "8\n"
     ]
    },
    {
     "data": {
      "text/plain": [
       "'\\nПервая итерация: Вход 251 \\nn = 251%10 \\nn = 1 (так как 251 делится на 10 с остатком 1)\\nsum_digits += n == 0+1 (где 0 изначальное значение, а 1 полученное)\\nnumber //=10 == 251//10\\nnumber = 25 (так как число 251 делится 25 раз нацело на число 10)\\n\\n\\n***\\nИтерации повторяются пока n > 0\\n\\n'"
      ]
     },
     "execution_count": 23,
     "metadata": {},
     "output_type": "execute_result"
    }
   ],
   "source": [
    "number = 251 \n",
    "\n",
    "sum_digits = 0\n",
    "\n",
    "while number > 0:\n",
    "    n = number%10\n",
    "    sum_digits += n\n",
    "    number //=10\n",
    "\n",
    "print(sum_digits)\n",
    "\n",
    "\"\"\"\n",
    "Первая итерация: Вход 251 \n",
    "n = 251%10 \n",
    "n = 1 (так как 251 делится на 10 с остатком 1)\n",
    "sum_digits += n == 0+1 (где 0 изначальное значение, а 1 полученное)\n",
    "number //=10 == 251//10\n",
    "number = 25 (так как число 251 делится 25 раз нацело на число 10)\n",
    "\n",
    "\n",
    "***\n",
    "Итерации повторяются пока n > 0\n",
    "\n",
    "\"\"\""
   ]
  },
  {
   "cell_type": "code",
   "execution_count": 35,
   "metadata": {},
   "outputs": [
    {
     "name": "stdout",
     "output_type": "stream",
     "text": [
      "-2\n",
      "1\n",
      "-1\n",
      "0\n"
     ]
    }
   ],
   "source": [
    "print(-12 // 10)\n",
    "print(12 // 10)\n",
    "print(-7 // 10)\n",
    "print(7 // 10)"
   ]
  },
  {
   "cell_type": "code",
   "execution_count": 41,
   "metadata": {},
   "outputs": [
    {
     "name": "stdout",
     "output_type": "stream",
     "text": [
      "5 4\n"
     ]
    }
   ],
   "source": [
    "a = 4 \n",
    "b = 5 \n",
    "a,b = b,a  # Правильная смена значений  для переменных \n",
    "\n",
    "print(a, b)"
   ]
  },
  {
   "cell_type": "code",
   "execution_count": 43,
   "metadata": {},
   "outputs": [
    {
     "name": "stdout",
     "output_type": "stream",
     "text": [
      "5 5\n"
     ]
    }
   ],
   "source": [
    "a = 4 \n",
    "b = 5 \n",
    "a = b  # Неправильная смена значений \n",
    "b = a  # Неправильная смена значений \n",
    "print(a, b)"
   ]
  },
  {
   "cell_type": "code",
   "execution_count": 58,
   "metadata": {},
   "outputs": [
    {
     "name": "stdout",
     "output_type": "stream",
     "text": [
      "16\n",
      "4.0\n"
     ]
    }
   ],
   "source": [
    "number = int(input())\n",
    "print(number * 2)\n",
    "print(number / 2) "
   ]
  },
  {
   "cell_type": "markdown",
   "metadata": {},
   "source": [
    "Петя учится в школе и очень любит математику. Уже несколько занятий они с классом проходят арифметические выражения. На последнем уроке учительница написала на доске три положительных целых числа a, b, c. Задание заключалось в том, чтобы расставить между этими числами знаки операций '+' и '*', а также, возможно, скобки. Значение получившегося выражения должно быть как можно больше. Рассмотрим пример: пусть учительница выписала на доску числа 1, 2 и 3. Вот некоторые варианты расстановки знаков и скобок:\n",
    "\n",
    "1+2*3=7\n",
    "1*(2+3)=5\n",
    "1*2*3=6\n",
    "(1+2)*3=9\n",
    "Обратите внимание на то, что знаки операций можно вставлять только между a и b, а также между b и c, то есть нельзя менять числа местами. Так, в приведенном примере нельзя получить выражение (1+3)*2.\n",
    "\n",
    "Легко убедиться, что максимальное значение, которое можно получить, — это 9.\n",
    "\n",
    "Ваша задача — по заданным a, b и c вывести, какое максимальное значение выражения можно получить.\n",
    "\n",
    "Входные данные\n",
    "\n",
    "Во входных данных записаны три целых числа a, b и c, каждое в отдельной строке (1 ≤ a, b, c ≤ 10).\n",
    "\n",
    "Выходные данные\n",
    "\n",
    "Выведите максимальное значение выражения, которое можно получить."
   ]
  },
  {
   "cell_type": "code",
   "execution_count": 66,
   "metadata": {},
   "outputs": [
    {
     "name": "stdout",
     "output_type": "stream",
     "text": [
      "48\n"
     ]
    }
   ],
   "source": [
    "n1, n2, n3 = [int(input()) for _ in range(3)] \n",
    "\n",
    "first_case = (n1 + n2) * n3 \n",
    "second_case = n1 * (n2 + n3) \n",
    "third_case = n1 * n2 * n3 \n",
    "fourth_case = n1 + n2  + n3 \n",
    "fifth_case = n1 * n2 + n3 \n",
    "sixth_case = n1 + n2 * n3 \n",
    "\n",
    "print(max(first_case, second_case, third_case, fourth_case, fifth_case, sixth_case))"
   ]
  },
  {
   "cell_type": "markdown",
   "metadata": {},
   "source": [
    "Известно, что на обработку одного квадратного метра панели требуется 1г сульфида. Всего необходимо обработать N прямоугольных панелей размером A на B метров. Вам необходимо подсчитать, сколько всего сульфида необходимо на обработку всех панелей. И не забудьте, что панели требуют обработки с обеих сторон.\n",
    "\n",
    "На вход программе подаются 3 положительных целых числа N,A,B в одну строку"
   ]
  },
  {
   "cell_type": "code",
   "execution_count": 74,
   "metadata": {},
   "outputs": [
    {
     "name": "stdout",
     "output_type": "stream",
     "text": [
      "440\n"
     ]
    }
   ],
   "source": [
    "n, a, b = map(int, input().split()) \n",
    "\n",
    "total_sum = n * a * b* 2\n",
    "\n",
    "print(total_sum)\n",
    "\n"
   ]
  },
  {
   "cell_type": "markdown",
   "metadata": {},
   "source": [
    "Петя, Катя и Сережа делают из бумаги журавликов. Вместе они сделали S журавликов. Сколько журавликов сделал каждый ребенок, если известно, что Петя и Сережа сделали одинаковое количество журавликов, а Катя сделала в два раза больше журавликов, чем Петя и Сережа вместе?\n",
    "\n",
    "Входные данные\n",
    "Поступает одно натуральное число S – общее количество сделанных журавликов.\n",
    "\n",
    "Выходные данные\n",
    "В единственную строку нужно вывести три числа, разделенных пробелами – количество журавликов, которые сделал каждый ребенок (Петя, Катя и Сережа).\n",
    "\n"
   ]
  },
  {
   "cell_type": "code",
   "execution_count": 92,
   "metadata": {},
   "outputs": [
    {
     "name": "stdout",
     "output_type": "stream",
     "text": [
      "1 4 1\n"
     ]
    }
   ],
   "source": [
    "#solution \n",
    "\n",
    "total_amount = int(input())\n",
    "\n",
    "petya_amount = total_amount // 6\n",
    "sergey_amount = petya_amount\n",
    "\n",
    "kate_amount = petya_amount  * 4\n",
    "\n",
    "print(petya_amount, kate_amount, sergey_amount)\n"
   ]
  },
  {
   "cell_type": "markdown",
   "metadata": {},
   "source": [
    "Однажды, посетив магазин канцелярских товаров, Вася купил X карандашей, Y ручек и Z фломастеров. Известно, что цена ручки на 2 рубля больше цены карандаша и на 7 рублей меньше цены фломастера. Также известно, что стоимость карандаша составляет 3 рубля. Требуется определить общую стоимость покупки."
   ]
  },
  {
   "cell_type": "code",
   "execution_count": 97,
   "metadata": {},
   "outputs": [
    {
     "name": "stdout",
     "output_type": "stream",
     "text": [
      "20\n"
     ]
    }
   ],
   "source": [
    "x, y, z = map(int, input().split()) \n",
    "\n",
    "x_price = 3 \n",
    "\n",
    "total_spend = 3 * x + y * (x_price + 2) + z * (x_price + 2 + 7)\n",
    "\n",
    "print(total_spend)\n"
   ]
  },
  {
   "cell_type": "markdown",
   "metadata": {},
   "source": [
    "Бандиты Гарри и Ларри отдыхали на природе. Решив пострелять, они выставили на бревно несколько банок из-под кока-колы (не больше 10). Гарри начал простреливать банки по порядку, начиная с самой левой, Ларри — с самой правой. В какой-то момент получилось так, что они одновременно прострелили одну и ту же последнюю банку.\n",
    "\n",
    "Гарри возмутился и сказал, что Ларри должен ему кучу денег за то, что тот лишил его удовольствия прострелить несколько банок. В ответ Ларри сказал, что Гарри должен ему еще больше денег по тем же причинам. Они стали спорить кто кому сколько должен, но никто из них не помнил сколько банок было в начале, а искать простреленные банки по всей округе было неохота. Каждый из них помнил только, сколько банок прострелил он сам.\n",
    "\n",
    "Определите по этим данным, сколько банок не прострелил Гарри и сколько банок не прострелил Ларри."
   ]
  },
  {
   "cell_type": "code",
   "execution_count": 100,
   "metadata": {},
   "outputs": [
    {
     "name": "stdout",
     "output_type": "stream",
     "text": [
      "6 3\n"
     ]
    }
   ],
   "source": [
    "a , b = map(int, input().split())\n",
    "\n",
    "larry_shoot = b - 1\n",
    "garry_shoot = a - 1\n",
    "\n",
    "print(larry_shoot, garry_shoot)\n",
    "\n"
   ]
  },
  {
   "cell_type": "code",
   "execution_count": 105,
   "metadata": {},
   "outputs": [
    {
     "name": "stdout",
     "output_type": "stream",
     "text": [
      "4<5<6\n"
     ]
    }
   ],
   "source": [
    "n = int(input())\n",
    "\n",
    "print(n-1, \"<\", n,\"<\", n+1, sep='')"
   ]
  },
  {
   "cell_type": "code",
   "execution_count": 106,
   "metadata": {},
   "outputs": [
    {
     "name": "stdout",
     "output_type": "stream",
     "text": [
      "4\n",
      "1\n",
      "0\n"
     ]
    }
   ],
   "source": [
    "#Если поделить любое число по остатку на 10 мы получим последнюю цифру\n",
    "\n",
    "print(221412414 %  10)\n",
    "print(5433463631 %  10)\n",
    "print(2675756850 %  10)"
   ]
  },
  {
   "cell_type": "code",
   "execution_count": 3,
   "metadata": {},
   "outputs": [
    {
     "name": "stdout",
     "output_type": "stream",
     "text": [
      "5\n",
      "3\n"
     ]
    }
   ],
   "source": [
    "print(\n",
    "    37 % 8\n",
    ")  # Output: 5 Обьяснение : a - b * (a/b) = 37 - 8 * 4(точный результат 4.5 но пайтон округляет до меньшего числа) = 37 - 32 = 5\n",
    "print(\n",
    "    -37 % 8\n",
    ")  # Output:3 Обьяснение : a - b * (a/b) = 37 - 8 * (-5) (точный результат 4.5 но пайтон округляет до меньшего числа) = 37 + 40 = 3"
   ]
  },
  {
   "cell_type": "code",
   "execution_count": 14,
   "metadata": {},
   "outputs": [
    {
     "name": "stdout",
     "output_type": "stream",
     "text": [
      "75\n"
     ]
    }
   ],
   "source": [
    "a = int(input()) \n",
    "\n",
    "print(a // 100 + a % 100 + a // 20 + a % 20 + a // 10 + a % 10 + a // 5 + a % 5) "
   ]
  },
  {
   "cell_type": "code",
   "execution_count": 19,
   "metadata": {},
   "outputs": [
    {
     "name": "stdout",
     "output_type": "stream",
     "text": [
      "3\n"
     ]
    }
   ],
   "source": [
    "a = int(input()) \n",
    "\n",
    "print(a // 100 + a % 100//20 + a % 20 // 10 + a % 10//5 + a % 5) "
   ]
  },
  {
   "cell_type": "markdown",
   "metadata": {},
   "source": [
    "Дано число n. С начала суток прошло n минут. Определите, сколько часов и минут будут показывать электронные часы в этот момент.\n",
    "\n",
    "Программа должна вывести два числа: количество часов (от 0 до 23) и количество минут (от 0 до 59).\n",
    "\n",
    "Учтите, что число n может быть больше, чем количество минут в сутках."
   ]
  },
  {
   "cell_type": "code",
   "execution_count": 35,
   "metadata": {},
   "outputs": [
    {
     "name": "stdout",
     "output_type": "stream",
     "text": [
      "3 3\n"
     ]
    }
   ],
   "source": [
    "#solution \n",
    "\n",
    "a = int(input())\n",
    "\n",
    "hours = a // 60 % 24 \n",
    "\n",
    "minutes = a % 60 \n",
    "\n",
    "print(hours, minutes)"
   ]
  },
  {
   "cell_type": "markdown",
   "metadata": {},
   "source": [
    "Дано целое число n. Выведите следующее за ним четное число.\n",
    "\n",
    "Задачу необходимо решить целочисленными операциями без использования условных операторов и\\или циклов."
   ]
  },
  {
   "cell_type": "code",
   "execution_count": 47,
   "metadata": {},
   "outputs": [
    {
     "name": "stdout",
     "output_type": "stream",
     "text": [
      "8\n"
     ]
    }
   ],
   "source": [
    "a = int(input())\n",
    "\n",
    "next_pair_number = a + 2 - (a % 2)\n",
    "\n",
    "print(next_pair_number)"
   ]
  },
  {
   "cell_type": "markdown",
   "metadata": {},
   "source": [
    "Электронные часы показывают время в формате h:mm:ss, то есть сначала записывается количество часов в диапазоне от 0 до 23, потом обязательно двузначное количество минут, затем обязательно двузначное количество секунд. Количество минут и секунд при необходимости дополняются до двузначного числа нулями.\n",
    "\n",
    "Программа получает на вход число n - количество секунд, которое прошло с начала суток.\n",
    "\n",
    "Выведите показания часов, соблюдая формат."
   ]
  },
  {
   "cell_type": "code",
   "execution_count": 62,
   "metadata": {},
   "outputs": [
    {
     "name": "stdout",
     "output_type": "stream",
     "text": [
      "1:23:20\n"
     ]
    }
   ],
   "source": [
    "n = int(input())\n",
    "\n",
    "hours = n // 3600 \n",
    "minutes = n // 60 % 60\n",
    "seconds = n % 60\n",
    "\n",
    "formatted_minutes = str(minutes).zfill(2)\n",
    "formatted_seconds = str(seconds).zfill(2)\n",
    "\n",
    "print(f\"{hours}:{formatted_minutes}:{formatted_seconds}\")"
   ]
  },
  {
   "cell_type": "code",
   "execution_count": 64,
   "metadata": {},
   "outputs": [
    {
     "name": "stdout",
     "output_type": "stream",
     "text": [
      "23\n"
     ]
    }
   ],
   "source": []
  }
 ],
 "metadata": {
  "kernelspec": {
   "display_name": ".venv",
   "language": "python",
   "name": "python3"
  },
  "language_info": {
   "codemirror_mode": {
    "name": "ipython",
    "version": 3
   },
   "file_extension": ".py",
   "mimetype": "text/x-python",
   "name": "python",
   "nbconvert_exporter": "python",
   "pygments_lexer": "ipython3",
   "version": "3.10.12"
  }
 },
 "nbformat": 4,
 "nbformat_minor": 2
}
