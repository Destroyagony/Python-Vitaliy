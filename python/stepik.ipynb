{
 "cells": [
  {
   "cell_type": "code",
   "execution_count": 26,
   "metadata": {},
   "outputs": [
    {
     "name": "stdout",
     "output_type": "stream",
     "text": [
      "460\n",
      "500\n",
      "2\n",
      "4\n"
     ]
    }
   ],
   "source": [
    "print(round(456, -1))\n",
    "print(round(456, -2))\n",
    "\n",
    "print(round(2.5))  #  если число четное округление производися в меньшую сторону\n",
    "print(round(3.5))  #  если же число четное то округление производится в большую сторону"
   ]
  },
  {
   "cell_type": "code",
   "execution_count": 24,
   "metadata": {},
   "outputs": [
    {
     "name": "stdout",
     "output_type": "stream",
     "text": [
      "5\n",
      "0\n",
      "0\n",
      "2\n"
     ]
    }
   ],
   "source": [
    "print(5 % 10)  # остаток от деления\n",
    "print(5 // 10)  # целочисленное деление (сколько раз пятерка помещается в 10)\n",
    "print(10 % 5)\n",
    "print(10 // 5)"
   ]
  },
  {
   "cell_type": "code",
   "execution_count": 12,
   "metadata": {},
   "outputs": [
    {
     "name": "stdout",
     "output_type": "stream",
     "text": [
      "4.0\n",
      "4.5\n",
      "3.0\n"
     ]
    }
   ],
   "source": [
    "print(pow(16, 0.5))  # возведение в степень\n",
    "\n",
    "print(9**1 / 2)  #  неправильное возведение в степень (в данном случае взятие корня)\n",
    "print(9 ** (1 / 2))  #  правильное возведение в степень (в данном случае взятие корня)"
   ]
  },
  {
   "cell_type": "code",
   "execution_count": 23,
   "metadata": {},
   "outputs": [
    {
     "name": "stdout",
     "output_type": "stream",
     "text": [
      "8\n"
     ]
    },
    {
     "data": {
      "text/plain": [
       "'\\nПервая итерация: Вход 251 \\nn = 251%10 \\nn = 1 (так как 251 делится на 10 с остатком 1)\\nsum_digits += n == 0+1 (где 0 изначальное значение, а 1 полученное)\\nnumber //=10 == 251//10\\nnumber = 25 (так как число 251 делится 25 раз нацело на число 10)\\n\\n\\n***\\nИтерации повторяются пока n > 0\\n\\n'"
      ]
     },
     "execution_count": 23,
     "metadata": {},
     "output_type": "execute_result"
    }
   ],
   "source": [
    "number = 251\n",
    "\n",
    "sum_digits = 0\n",
    "\n",
    "while number > 0:\n",
    "    n = number % 10\n",
    "    sum_digits += n\n",
    "    number //= 10\n",
    "\n",
    "print(sum_digits)\n",
    "\n",
    "\"\"\"\n",
    "Первая итерация: Вход 251 \n",
    "n = 251%10 \n",
    "n = 1 (так как 251 делится на 10 с остатком 1)\n",
    "sum_digits += n == 0+1 (где 0 изначальное значение, а 1 полученное)\n",
    "number //=10 == 251//10\n",
    "number = 25 (так как число 251 делится 25 раз нацело на число 10)\n",
    "\n",
    "\n",
    "***\n",
    "Итерации повторяются пока n > 0\n",
    "\n",
    "\"\"\""
   ]
  },
  {
   "cell_type": "code",
   "execution_count": 35,
   "metadata": {},
   "outputs": [
    {
     "name": "stdout",
     "output_type": "stream",
     "text": [
      "-2\n",
      "1\n",
      "-1\n",
      "0\n"
     ]
    }
   ],
   "source": [
    "print(-12 // 10)\n",
    "print(12 // 10)\n",
    "print(-7 // 10)\n",
    "print(7 // 10)"
   ]
  },
  {
   "cell_type": "code",
   "execution_count": 41,
   "metadata": {},
   "outputs": [
    {
     "name": "stdout",
     "output_type": "stream",
     "text": [
      "5 4\n"
     ]
    }
   ],
   "source": [
    "a = 4\n",
    "b = 5\n",
    "a, b = b, a  # Правильная смена значений  для переменных\n",
    "\n",
    "print(a, b)"
   ]
  },
  {
   "cell_type": "code",
   "execution_count": 43,
   "metadata": {},
   "outputs": [
    {
     "name": "stdout",
     "output_type": "stream",
     "text": [
      "5 5\n"
     ]
    }
   ],
   "source": [
    "a = 4\n",
    "b = 5\n",
    "a = b  # Неправильная смена значений\n",
    "b = a  # Неправильная смена значений\n",
    "print(a, b)"
   ]
  },
  {
   "cell_type": "code",
   "execution_count": 58,
   "metadata": {},
   "outputs": [
    {
     "name": "stdout",
     "output_type": "stream",
     "text": [
      "16\n",
      "4.0\n"
     ]
    }
   ],
   "source": [
    "number = int(input())\n",
    "print(number * 2)\n",
    "print(number / 2)"
   ]
  },
  {
   "cell_type": "markdown",
   "metadata": {},
   "source": [
    "Петя учится в школе и очень любит математику. Уже несколько занятий они с классом проходят арифметические выражения. На последнем уроке учительница написала на доске три положительных целых числа a, b, c. Задание заключалось в том, чтобы расставить между этими числами знаки операций '+' и '*', а также, возможно, скобки. Значение получившегося выражения должно быть как можно больше. Рассмотрим пример: пусть учительница выписала на доску числа 1, 2 и 3. Вот некоторые варианты расстановки знаков и скобок:\n",
    "\n",
    "1+2*3=7\n",
    "1*(2+3)=5\n",
    "1*2*3=6\n",
    "(1+2)*3=9\n",
    "Обратите внимание на то, что знаки операций можно вставлять только между a и b, а также между b и c, то есть нельзя менять числа местами. Так, в приведенном примере нельзя получить выражение (1+3)*2.\n",
    "\n",
    "Легко убедиться, что максимальное значение, которое можно получить, — это 9.\n",
    "\n",
    "Ваша задача — по заданным a, b и c вывести, какое максимальное значение выражения можно получить.\n",
    "\n",
    "Входные данные\n",
    "\n",
    "Во входных данных записаны три целых числа a, b и c, каждое в отдельной строке (1 ≤ a, b, c ≤ 10).\n",
    "\n",
    "Выходные данные\n",
    "\n",
    "Выведите максимальное значение выражения, которое можно получить."
   ]
  },
  {
   "cell_type": "code",
   "execution_count": 66,
   "metadata": {},
   "outputs": [
    {
     "name": "stdout",
     "output_type": "stream",
     "text": [
      "48\n"
     ]
    }
   ],
   "source": [
    "n1, n2, n3 = [int(input()) for _ in range(3)]\n",
    "\n",
    "first_case = (n1 + n2) * n3\n",
    "second_case = n1 * (n2 + n3)\n",
    "third_case = n1 * n2 * n3\n",
    "fourth_case = n1 + n2 + n3\n",
    "fifth_case = n1 * n2 + n3\n",
    "sixth_case = n1 + n2 * n3\n",
    "\n",
    "print(max(first_case, second_case, third_case, fourth_case, fifth_case, sixth_case))"
   ]
  },
  {
   "cell_type": "markdown",
   "metadata": {},
   "source": [
    "Известно, что на обработку одного квадратного метра панели требуется 1г сульфида. Всего необходимо обработать N прямоугольных панелей размером A на B метров. Вам необходимо подсчитать, сколько всего сульфида необходимо на обработку всех панелей. И не забудьте, что панели требуют обработки с обеих сторон.\n",
    "\n",
    "На вход программе подаются 3 положительных целых числа N,A,B в одну строку"
   ]
  },
  {
   "cell_type": "code",
   "execution_count": 74,
   "metadata": {},
   "outputs": [
    {
     "name": "stdout",
     "output_type": "stream",
     "text": [
      "440\n"
     ]
    }
   ],
   "source": [
    "n, a, b = map(int, input().split())\n",
    "\n",
    "total_sum = n * a * b * 2\n",
    "\n",
    "print(total_sum)"
   ]
  },
  {
   "cell_type": "markdown",
   "metadata": {},
   "source": [
    "Петя, Катя и Сережа делают из бумаги журавликов. Вместе они сделали S журавликов. Сколько журавликов сделал каждый ребенок, если известно, что Петя и Сережа сделали одинаковое количество журавликов, а Катя сделала в два раза больше журавликов, чем Петя и Сережа вместе?\n",
    "\n",
    "Входные данные\n",
    "Поступает одно натуральное число S – общее количество сделанных журавликов.\n",
    "\n",
    "Выходные данные\n",
    "В единственную строку нужно вывести три числа, разделенных пробелами – количество журавликов, которые сделал каждый ребенок (Петя, Катя и Сережа).\n",
    "\n"
   ]
  },
  {
   "cell_type": "code",
   "execution_count": 92,
   "metadata": {},
   "outputs": [
    {
     "name": "stdout",
     "output_type": "stream",
     "text": [
      "1 4 1\n"
     ]
    }
   ],
   "source": [
    "# solution\n",
    "\n",
    "total_amount = int(input())\n",
    "\n",
    "petya_amount = total_amount // 6\n",
    "sergey_amount = petya_amount\n",
    "\n",
    "kate_amount = petya_amount * 4\n",
    "\n",
    "print(petya_amount, kate_amount, sergey_amount)"
   ]
  },
  {
   "cell_type": "markdown",
   "metadata": {},
   "source": [
    "Однажды, посетив магазин канцелярских товаров, Вася купил X карандашей, Y ручек и Z фломастеров. Известно, что цена ручки на 2 рубля больше цены карандаша и на 7 рублей меньше цены фломастера. Также известно, что стоимость карандаша составляет 3 рубля. Требуется определить общую стоимость покупки."
   ]
  },
  {
   "cell_type": "code",
   "execution_count": 97,
   "metadata": {},
   "outputs": [
    {
     "name": "stdout",
     "output_type": "stream",
     "text": [
      "20\n"
     ]
    }
   ],
   "source": [
    "x, y, z = map(int, input().split())\n",
    "\n",
    "x_price = 3\n",
    "\n",
    "total_spend = 3 * x + y * (x_price + 2) + z * (x_price + 2 + 7)\n",
    "\n",
    "print(total_spend)"
   ]
  },
  {
   "cell_type": "markdown",
   "metadata": {},
   "source": [
    "Бандиты Гарри и Ларри отдыхали на природе. Решив пострелять, они выставили на бревно несколько банок из-под кока-колы (не больше 10). Гарри начал простреливать банки по порядку, начиная с самой левой, Ларри — с самой правой. В какой-то момент получилось так, что они одновременно прострелили одну и ту же последнюю банку.\n",
    "\n",
    "Гарри возмутился и сказал, что Ларри должен ему кучу денег за то, что тот лишил его удовольствия прострелить несколько банок. В ответ Ларри сказал, что Гарри должен ему еще больше денег по тем же причинам. Они стали спорить кто кому сколько должен, но никто из них не помнил сколько банок было в начале, а искать простреленные банки по всей округе было неохота. Каждый из них помнил только, сколько банок прострелил он сам.\n",
    "\n",
    "Определите по этим данным, сколько банок не прострелил Гарри и сколько банок не прострелил Ларри."
   ]
  },
  {
   "cell_type": "code",
   "execution_count": 100,
   "metadata": {},
   "outputs": [
    {
     "name": "stdout",
     "output_type": "stream",
     "text": [
      "6 3\n"
     ]
    }
   ],
   "source": [
    "a, b = map(int, input().split())\n",
    "\n",
    "larry_shoot = b - 1\n",
    "garry_shoot = a - 1\n",
    "\n",
    "print(larry_shoot, garry_shoot)"
   ]
  },
  {
   "cell_type": "code",
   "execution_count": 105,
   "metadata": {},
   "outputs": [
    {
     "name": "stdout",
     "output_type": "stream",
     "text": [
      "4<5<6\n"
     ]
    }
   ],
   "source": [
    "n = int(input())\n",
    "\n",
    "print(n - 1, \"<\", n, \"<\", n + 1, sep=\"\")"
   ]
  },
  {
   "cell_type": "code",
   "execution_count": 106,
   "metadata": {},
   "outputs": [
    {
     "name": "stdout",
     "output_type": "stream",
     "text": [
      "4\n",
      "1\n",
      "0\n"
     ]
    }
   ],
   "source": [
    "# Если поделить любое число по остатку на 10 мы получим последнюю цифру\n",
    "\n",
    "print(221412414 % 10)\n",
    "print(5433463631 % 10)\n",
    "print(2675756850 % 10)"
   ]
  },
  {
   "cell_type": "code",
   "execution_count": 3,
   "metadata": {},
   "outputs": [
    {
     "name": "stdout",
     "output_type": "stream",
     "text": [
      "5\n",
      "3\n"
     ]
    }
   ],
   "source": [
    "print(\n",
    "    37 % 8\n",
    ")  # Output: 5 Обьяснение : a - b * (a/b) = 37 - 8 * 4(точный результат 4.5 но пайтон округляет до меньшего числа) = 37 - 32 = 5\n",
    "print(\n",
    "    -37 % 8\n",
    ")  # Output:3 Обьяснение : a - b * (a/b) = 37 - 8 * (-5) (точный результат 4.5 но пайтон округляет до меньшего числа) = 37 + 40 = 3"
   ]
  },
  {
   "cell_type": "code",
   "execution_count": 14,
   "metadata": {},
   "outputs": [
    {
     "name": "stdout",
     "output_type": "stream",
     "text": [
      "75\n"
     ]
    }
   ],
   "source": [
    "a = int(input())\n",
    "\n",
    "print(a // 100 + a % 100 + a // 20 + a % 20 + a // 10 + a % 10 + a // 5 + a % 5)"
   ]
  },
  {
   "cell_type": "code",
   "execution_count": 19,
   "metadata": {},
   "outputs": [
    {
     "name": "stdout",
     "output_type": "stream",
     "text": [
      "3\n"
     ]
    }
   ],
   "source": [
    "a = int(input())\n",
    "\n",
    "print(a // 100 + a % 100 // 20 + a % 20 // 10 + a % 10 // 5 + a % 5)"
   ]
  },
  {
   "cell_type": "markdown",
   "metadata": {},
   "source": [
    "Дано число n. С начала суток прошло n минут. Определите, сколько часов и минут будут показывать электронные часы в этот момент.\n",
    "\n",
    "Программа должна вывести два числа: количество часов (от 0 до 23) и количество минут (от 0 до 59).\n",
    "\n",
    "Учтите, что число n может быть больше, чем количество минут в сутках."
   ]
  },
  {
   "cell_type": "code",
   "execution_count": 35,
   "metadata": {},
   "outputs": [
    {
     "name": "stdout",
     "output_type": "stream",
     "text": [
      "3 3\n"
     ]
    }
   ],
   "source": [
    "# solution\n",
    "\n",
    "a = int(input())\n",
    "\n",
    "hours = a // 60 % 24\n",
    "\n",
    "minutes = a % 60\n",
    "\n",
    "print(hours, minutes)"
   ]
  },
  {
   "cell_type": "markdown",
   "metadata": {},
   "source": [
    "Дано целое число n. Выведите следующее за ним четное число.\n",
    "\n",
    "Задачу необходимо решить целочисленными операциями без использования условных операторов и\\или циклов."
   ]
  },
  {
   "cell_type": "code",
   "execution_count": 47,
   "metadata": {},
   "outputs": [
    {
     "name": "stdout",
     "output_type": "stream",
     "text": [
      "8\n"
     ]
    }
   ],
   "source": [
    "a = int(input())\n",
    "\n",
    "next_pair_number = a + 2 - (a % 2)\n",
    "\n",
    "print(next_pair_number)"
   ]
  },
  {
   "cell_type": "markdown",
   "metadata": {},
   "source": [
    "Электронные часы показывают время в формате h:mm:ss, то есть сначала записывается количество часов в диапазоне от 0 до 23, потом обязательно двузначное количество минут, затем обязательно двузначное количество секунд. Количество минут и секунд при необходимости дополняются до двузначного числа нулями.\n",
    "\n",
    "Программа получает на вход число n - количество секунд, которое прошло с начала суток.\n",
    "\n",
    "Выведите показания часов, соблюдая формат."
   ]
  },
  {
   "cell_type": "code",
   "execution_count": 62,
   "metadata": {},
   "outputs": [
    {
     "name": "stdout",
     "output_type": "stream",
     "text": [
      "1:23:20\n"
     ]
    }
   ],
   "source": [
    "n = int(input())\n",
    "\n",
    "hours = n // 3600\n",
    "minutes = n // 60 % 60\n",
    "seconds = n % 60\n",
    "\n",
    "formatted_minutes = str(minutes).zfill(2)\n",
    "formatted_seconds = str(seconds).zfill(2)\n",
    "\n",
    "print(f\"{hours}:{formatted_minutes}:{formatted_seconds}\")"
   ]
  },
  {
   "cell_type": "markdown",
   "metadata": {},
   "source": [
    "Последовательность выполнения союзов если нет скобок.\n",
    "\n",
    "1. Not\n",
    "2. And\n",
    "3. Or"
   ]
  },
  {
   "cell_type": "markdown",
   "metadata": {},
   "source": [
    "**Конъюнкция (логическое умножение):**\n",
    "\n",
    "Конъюнкция двух выражений выполняется оператором `and` в Python. Результат выражения `a and b` истинен только в случае, если оба выражения `a` и `b` истинны. Например, в программе проверяется, выполнены ли оба условия для продолжения выполнения кода:\n",
    "\n",
    "```python\n",
    "is_sunny = True\n",
    "is_warm = True\n",
    "\n",
    "if is_sunny and is_warm:\n",
    "    print(\"Погода отличная! Выходи на улицу.\")\n",
    "else:\n",
    "    print(\"Подожди немного, возможно, слишком холодно или пасмурно.\")\n",
    "```\n",
    "\n",
    "**Дизъюнкция (логическое сложение):**\n",
    "\n",
    "Дизъюнкция двух выражений выполняется оператором `or` в Python. Результат выражения `a or b` истинен, если хотя бы одно из выражений `a` или `b` истинно. Например, в программе проверяется, выполнено ли хотя бы одно из условий для принятия решения:\n",
    "\n",
    "```python\n",
    "has_permission = False\n",
    "is_admin = True\n",
    "\n",
    "if has_permission or is_admin:\n",
    "    print(\"Доступ разрешен.\")\n",
    "else:\n",
    "    print(\"Доступ запрещен. Необходимы права администратора или разрешения.\")\n",
    "```\n",
    "\n",
    "**Инверсия (логическое отрицание):**\n",
    "\n",
    "Инверсия выражения выполняется оператором `not` в Python. Результат выражения `not a` истинен, если `a` ложно. Например, в программе проверяется отсутствие какого-либо условия:\n",
    "\n",
    "```python\n",
    "is_raining = True\n",
    "\n",
    "if not is_raining:\n",
    "    print(\"На улице сухо. Можно выйти гулять.\")\n",
    "else:\n",
    "    print(\"Лучше остаться дома, идет дождь.\")\n",
    "```\n",
    "\n",
    "**Импликация (логическое следование):**\n",
    "\n",
    "Импликация двух высказываний `a` и `b` истинна в Python, если ложно первое высказывание или истинно второе. Например, в программе проверяется, если ли нужные данные для выполнения операции:\n",
    "\n",
    "```python\n",
    "has_data = False\n",
    "is_valid = True\n",
    "\n",
    "if not has_data or is_valid:\n",
    "    print(\"Можно выполнить операцию.\")\n",
    "else:\n",
    "    print(\"Отсутствуют необходимые данные или данные неверные.\")\n",
    "```\n",
    "\n",
    "**Эквивалентность (логическая равнозначность):**\n",
    "\n",
    "Эквивалентность двух высказываний `a` и `b` истинна в Python, если оба высказывания истинны или оба высказывания ложны. Например, в программе проверяется, равны ли два числа:\n",
    "\n",
    "```python\n",
    "num1 = 10\n",
    "num2 = 10\n",
    "\n",
    "if num1 == num2:\n",
    "    print(\"Числа равны.\")\n",
    "else:\n",
    "    print(\"Числа не равны.\")\n",
    "```\n"
   ]
  },
  {
   "cell_type": "markdown",
   "metadata": {},
   "source": [
    "**Закон де Моргана для конъюнкции и дизъюнкции:**\n",
    "\n",
    "1. **Закон де Моргана для конъюнкции:**\n",
    "   ```\n",
    "   not (A and B) == (not A) or (not B)\n",
    "   ```\n",
    "   Этот закон гласит, что отрицание конъюнкции двух высказываний равносильно дизъюнкции отрицаний каждого высказывания по отдельности.\n",
    "\n",
    "   Пример в Python:\n",
    "\n",
    "   ```python\n",
    "   has_permission = True\n",
    "   is_admin = False\n",
    "\n",
    "   if not (has_permission and is_admin):\n",
    "       print(\"Доступ разрешен для неадминистратора или тех, у кого нет разрешений.\")\n",
    "   else:\n",
    "       print(\"Доступ запрещен для администраторов с разрешениями.\")\n",
    "   ```\n",
    "\n",
    "2. **Закон де Моргана для дизъюнкции:**\n",
    "   ```\n",
    "   not (A or B) == (not A) and (not B)\n",
    "   ```\n",
    "   Этот закон утверждает, что отрицание дизъюнкции двух высказываний равносильно конъюнкции отрицаний каждого высказывания по отдельности.\n",
    "\n",
    "   Пример в Python:\n",
    "\n",
    "   ```python\n",
    "   is_raining = False\n",
    "   has_umbrella = False\n",
    "\n",
    "   if not (is_raining or has_umbrella):\n",
    "       print(\"Лучше подождать, пока дождь не закончится или взять зонт.\")\n",
    "   else:\n",
    "       print(\"Можно выходить на улицу, есть зонт или дождя нет.\")\n",
    "   ```\n",
    "\n",
    "**Закон де Моргана для импликации и эквивалентности:**\n",
    "\n",
    "1. **Закон де Моргана для импликации:**\n",
    "   ```\n",
    "   not (A → B) == A and (not B)\n",
    "   ```\n",
    "   Этот закон утверждает, что отрицание импликации двух высказываний равносильно конъюнкции первого высказывания и отрицания второго высказывания.\n",
    "\n",
    "   Пример в Python:\n",
    "\n",
    "   ```python\n",
    "   has_key = False\n",
    "   locked_door = True\n",
    "\n",
    "   if not (has_key or not locked_door):\n",
    "       print(\"Можно открыть дверь без ключа или дверь не заперта.\")\n",
    "   else:\n",
    "       print(\"Дверь заперта и нет ключа. Невозможно открыть.\")\n",
    "   ```\n",
    "\n",
    "2. **Закон де Моргана для эквивалентности:**\n",
    "   ```\n",
    "   not (A ↔ B) == (not A or B) and (A or not B)\n",
    "   ```\n",
    "   Этот закон гласит, что отрицание эквивалентности двух высказываний равносильно конъюнкции дизъюнкций первого высказывания с отрицанием второго высказывания и дизъюнкции второго высказывания с отрицанием первого высказывания.\n",
    "\n",
    "   Пример в Python:\n",
    "\n",
    "   ```python\n",
    "   is_even = True\n",
    "   is_divisible_by_3 = False\n",
    "\n",
    "   if not ((is_even and not is_divisible_by_3) or (not is_even and is_divisible_by_3)):\n",
    "       print(\"Число не является ни четным, ни кратным 3.\")\n",
    "   else:\n",
    "       print(\"Число является или четным, или кратным 3.\")\n",
    "   ```\n",
    "\n"
   ]
  },
  {
   "cell_type": "markdown",
   "metadata": {},
   "source": [
    "На вход поступает целое число.\n",
    "\n",
    "Программа должна вывести True, если введенное значение является положительным числом, в противном случае - False.\n",
    "\n",
    "Сделать задачу необходимо без использования условного оператора.\n"
   ]
  },
  {
   "cell_type": "code",
   "execution_count": 5,
   "metadata": {},
   "outputs": [
    {
     "name": "stdout",
     "output_type": "stream",
     "text": [
      "True\n"
     ]
    }
   ],
   "source": [
    "n = int(input())\n",
    "\n",
    "print(n > 0)"
   ]
  },
  {
   "cell_type": "markdown",
   "metadata": {},
   "source": [
    "На вход поступает целое число.\n",
    "\n",
    "Программа должна вывести True, если введенное значение является четным числом, в противном случае - False.\n",
    "\n",
    "Сделать задачу необходимо без использования условного оператора."
   ]
  },
  {
   "cell_type": "code",
   "execution_count": 7,
   "metadata": {},
   "outputs": [
    {
     "name": "stdout",
     "output_type": "stream",
     "text": [
      "False\n"
     ]
    }
   ],
   "source": [
    "n = int(input())\n",
    "\n",
    "print(n % 2 == 0)"
   ]
  },
  {
   "cell_type": "markdown",
   "metadata": {},
   "source": [
    "На вход поступает целое число.\n",
    "\n",
    "Программа должна вывести True, если введенное значение кратно 6 (без остатка делится на 6), в противном случае - False\n",
    "\n",
    "Сделать задачу необходимо без использования условного оператора."
   ]
  },
  {
   "cell_type": "code",
   "execution_count": null,
   "metadata": {},
   "outputs": [],
   "source": [
    "n = int(input())\n",
    "\n",
    "print(n % 6 == 0)"
   ]
  },
  {
   "cell_type": "markdown",
   "metadata": {},
   "source": [
    "На вход поступает целое число.\n",
    "\n",
    "Программа должна вывести True, если введенное значение не делится на 9, в противном случае - False.\n",
    "\n",
    "Сделать задачу необходимо без использования условного оператора."
   ]
  },
  {
   "cell_type": "code",
   "execution_count": 10,
   "metadata": {},
   "outputs": [
    {
     "name": "stdout",
     "output_type": "stream",
     "text": [
      "True\n"
     ]
    }
   ],
   "source": [
    "n = int(input())\n",
    "\n",
    "print(n % 9 != 0)"
   ]
  },
  {
   "cell_type": "markdown",
   "metadata": {},
   "source": [
    "На вход поступает целое положительное число.\n",
    "\n",
    "Программа должна вывести True, если у введенного числа последняя цифра 2, в противном случае - False.\n",
    "\n",
    "Сделать задачу необходимо без использования условного оператора."
   ]
  },
  {
   "cell_type": "code",
   "execution_count": 13,
   "metadata": {},
   "outputs": [
    {
     "name": "stdout",
     "output_type": "stream",
     "text": [
      "False\n"
     ]
    }
   ],
   "source": [
    "n = int(input())\n",
    "\n",
    "print(n % 10 == 2)"
   ]
  },
  {
   "cell_type": "markdown",
   "metadata": {},
   "source": [
    "На вход программе поступают два целых числа в одной строке.\n",
    "\n",
    "Программа должна вывести True, если оба числа делятся на 7, в противном случае - False.\n",
    "\n",
    "Сделать задачу необходимо без использования условного оператора."
   ]
  },
  {
   "cell_type": "code",
   "execution_count": 19,
   "metadata": {},
   "outputs": [
    {
     "name": "stdout",
     "output_type": "stream",
     "text": [
      "False\n"
     ]
    }
   ],
   "source": [
    "num1, num2 = map(int, input().split())\n",
    "\n",
    "print(num1 % 7 == 0 and num2 % 7 == 0)"
   ]
  },
  {
   "cell_type": "markdown",
   "metadata": {},
   "source": [
    "На вход поступают три целых числа - стороны треугольника.\n",
    "\n",
    "Необходимо вывести True, если данные стороны образуют правильный треугольник, в противном случае - False.\n",
    "\n",
    "Сделать задачу необходимо без использования условного оператора."
   ]
  },
  {
   "cell_type": "code",
   "execution_count": 21,
   "metadata": {},
   "outputs": [
    {
     "name": "stdout",
     "output_type": "stream",
     "text": [
      "False\n"
     ]
    }
   ],
   "source": [
    "num1, num2, num3 = map(int, input().split())\n",
    "\n",
    "print(num1 == num2 == num3)"
   ]
  },
  {
   "cell_type": "markdown",
   "metadata": {},
   "source": [
    "На вход поступает целое число.\n",
    "\n",
    "Программа должна вывести True, если введенное значение принадлежит интервалу от 5 не включительно до 19 включительно , в противном случае - False.\n",
    "\n",
    "Сделать задачу необходимо без использования условного оператора."
   ]
  },
  {
   "cell_type": "code",
   "execution_count": 26,
   "metadata": {},
   "outputs": [
    {
     "name": "stdout",
     "output_type": "stream",
     "text": [
      "False\n"
     ]
    }
   ],
   "source": [
    "n = int(input())\n",
    "\n",
    "print( n > 5  and n <= 19 )"
   ]
  },
  {
   "cell_type": "markdown",
   "metadata": {},
   "source": [
    "На вход поступают два слова.\n",
    "\n",
    "Программа должна вывести True, если хотя бы одно слово равно слову \"awesome\".\n",
    "\n",
    "Сделать задачу необходимо без использования условного оператор"
   ]
  },
  {
   "cell_type": "code",
   "execution_count": 27,
   "metadata": {},
   "outputs": [
    {
     "name": "stdout",
     "output_type": "stream",
     "text": [
      "True\n"
     ]
    }
   ],
   "source": [
    "first_word = input()\n",
    "second_word = input()\n",
    "\n",
    "print(first_word == 'awesome' or second_word == 'awesome')\n"
   ]
  },
  {
   "cell_type": "markdown",
   "metadata": {},
   "source": [
    "На вход поступают три целых числа - стороны треугольника.\n",
    "\n",
    "Необходимо вывести True, если данные стороны образуют равнобедренный треугольник, в противном случае - False.\n",
    "\n",
    "Сделать задачу необходимо без использования условного оператора."
   ]
  },
  {
   "cell_type": "code",
   "execution_count": null,
   "metadata": {},
   "outputs": [],
   "source": [
    "num1, num2, num3 = map(int, input().split())\n",
    "\n",
    "print(num1 == num2 or num1 == num3 or num2 == num3)"
   ]
  },
  {
   "cell_type": "markdown",
   "metadata": {},
   "source": [
    "На вход поступает целое положительное число.\n",
    "\n",
    "Программа должна вывести True, если данное число является двузначным, в противном случае - False.\n",
    "\n",
    "Сделать задачу необходимо без использования условного оператора."
   ]
  },
  {
   "cell_type": "code",
   "execution_count": null,
   "metadata": {},
   "outputs": [],
   "source": [
    "n = int(input())\n",
    "\n",
    "print(n > 9 and n < 100)"
   ]
  },
  {
   "cell_type": "markdown",
   "metadata": {},
   "source": [
    "На вход поступают три целых числа - стороны треугольника.\n",
    "\n",
    "Необходимо вывести True, если данные стороны образуют прямоугольный треугольник, в противном случае - False.\n",
    "\n",
    "Для написания программы необходимо вспомнить теорему Пифагора\n",
    "\n",
    "Сделать задачу необходимо без использования условного оператора."
   ]
  },
  {
   "cell_type": "code",
   "execution_count": 28,
   "metadata": {},
   "outputs": [
    {
     "name": "stdout",
     "output_type": "stream",
     "text": [
      "True\n"
     ]
    }
   ],
   "source": [
    "a, b, c = map(int, input().split())\n",
    "\n",
    "max_side = max(a, b, c)\n",
    "\n",
    "is_right_angle = a**2 + b**2 + c**2 - max_side**2 * 2 \n",
    "\n",
    "print(is_right_angle == 0)"
   ]
  }
 ],
 "metadata": {
  "kernelspec": {
   "display_name": ".venv",
   "language": "python",
   "name": "python3"
  },
  "language_info": {
   "codemirror_mode": {
    "name": "ipython",
    "version": 3
   },
   "file_extension": ".py",
   "mimetype": "text/x-python",
   "name": "python",
   "nbconvert_exporter": "python",
   "pygments_lexer": "ipython3",
   "version": "3.10.12"
  }
 },
 "nbformat": 4,
 "nbformat_minor": 2
}
